{
  "nbformat": 4,
  "nbformat_minor": 0,
  "metadata": {
    "colab": {
      "provenance": [],
      "authorship_tag": "ABX9TyOCE7nKgbZVGLYyppC9d0rj",
      "include_colab_link": true
    },
    "kernelspec": {
      "name": "python3",
      "display_name": "Python 3"
    },
    "language_info": {
      "name": "python"
    }
  },
  "cells": [
    {
      "cell_type": "markdown",
      "metadata": {
        "id": "view-in-github",
        "colab_type": "text"
      },
      "source": [
        "<a href=\"https://colab.research.google.com/github/VyshnaviNagaSai/MachineLearning/blob/main/Noise_Removal.ipynb\" target=\"_parent\"><img src=\"https://colab.research.google.com/assets/colab-badge.svg\" alt=\"Open In Colab\"/></a>"
      ]
    },
    {
      "cell_type": "code",
      "execution_count": 1,
      "metadata": {
        "id": "7S7kahZw0YB_"
      },
      "outputs": [],
      "source": [
        "import nltk\n",
        "from nltk .corpus import stopwords\n",
        "from nltk.tokenize import word_tokenize\n",
        "import string"
      ]
    },
    {
      "cell_type": "code",
      "source": [
        "def remove_punctuation(sentence):\n",
        "  for i in sentence:\n",
        "    if i in string.punctuation:\n",
        "      sentence=sentence.replace(i,\"\")\n",
        "  return sentence"
      ],
      "metadata": {
        "id": "IjaU6ZY-0xYt"
      },
      "execution_count": 2,
      "outputs": []
    },
    {
      "cell_type": "code",
      "source": [
        "def remove_stopwords(sentence):\n",
        "  stop_words=set(stopwords.words('english'))\n",
        "  word_tokens=word_tokenize(example_sent)\n",
        "  filtered_sentence= []\n",
        "  for w in word_tokens:\n",
        "    if w not in stop_words:\n",
        "      filtered_sentence.append(w)\n",
        "  return filtered_sentence\n",
        "example_sent=\"\"\"We are learning Natural Language Processing (NLP) as part of Fundamentals of Machine Learning (FML) course in our second year B.Tech.\"\"\""
      ],
      "metadata": {
        "id": "A-ew5Eux1F0q"
      },
      "execution_count": 3,
      "outputs": []
    },
    {
      "cell_type": "code",
      "source": [
        "print(f\"Original Sentence:\\n{example_sent}\")\n",
        "example_sent=remove_punctuation(example_sent)\n",
        "print(f\"\\nSentence after removing punctuations:\\n{example_sent}\")"
      ],
      "metadata": {
        "colab": {
          "base_uri": "https://localhost:8080/"
        },
        "id": "U4MJnLMf2c6l",
        "outputId": "edbd8365-ade0-4739-ee65-478aad7f160e"
      },
      "execution_count": 6,
      "outputs": [
        {
          "output_type": "stream",
          "name": "stdout",
          "text": [
            "Original Sentence:\n",
            "We are learning Natural Language Processing NLP as part of Fundamentals of Machine Learning FML course in our second year BTech\n",
            "\n",
            "Sentence after removing punctuations:\n",
            "We are learning Natural Language Processing NLP as part of Fundamentals of Machine Learning FML course in our second year BTech\n"
          ]
        }
      ]
    }
  ]
}